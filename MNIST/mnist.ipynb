{
 "cells": [
  {
   "cell_type": "markdown",
   "id": "f53bfe51-ab99-44bf-b98e-c968959469de",
   "metadata": {},
   "source": [
    "# MNIST Image Detector"
   ]
  },
  {
   "cell_type": "code",
   "execution_count": 20,
   "id": "5de61860-ac8c-424e-aab4-dd0136063182",
   "metadata": {},
   "outputs": [],
   "source": [
    "import numpy as np\n",
    "import torch\n",
    "from torch import flatten\n",
    "import pandas as pd\n",
    "from torchvision import datasets\n",
    "from torch.utils.data import Dataset, DataLoader, TensorDataset\n",
    "import matplotlib.pyplot as plt\n",
    "from torchvision.transforms import ToTensor\n",
    "import torch.nn as nn\n",
    "import torch.nn.functional as F"
   ]
  },
  {
   "cell_type": "markdown",
   "id": "7be05872-9d5b-4ccb-a0dd-9c39c611bc89",
   "metadata": {
    "jp-MarkdownHeadingCollapsed": true
   },
   "source": [
    "## Training Data"
   ]
  },
  {
   "cell_type": "code",
   "execution_count": 21,
   "id": "05ec3d18-a1df-4cbc-9aa3-288ad6fb7c8e",
   "metadata": {},
   "outputs": [
    {
     "data": {
      "image/png": "[encoded data removed]",
      "text/plain": [
       "<Figure size 640x480 with 1 Axes>"
      ]
     },
     "metadata": {},
     "output_type": "display_data"
    },
    {
     "name": "stdout",
     "output_type": "stream",
     "text": [
      "Number of images 60000\n",
      "Image size: 28x28\n"
     ]
    }
   ],
   "source": [
    "with open(\"/Users/eminustun/Documents/Codes/Micrograd/MNIST_ORG/train-images.idx3-ubyte\", \"rb\") as f:\n",
    "    # Read magic number and metadata\n",
    "\n",
    "    magic = int.from_bytes(f.read(4), 'big') # First 4 bytes are magic number ( A magic number in identifies file format)\n",
    "    n_images = int.from_bytes(f.read(4), 'big') # Number of images\n",
    "    n_rows = int.from_bytes(f.read(4), 'big') # number of rows\n",
    "    n_cols = int.from_bytes(f.read(4), 'big') # number of columns\n",
    "\n",
    "    # Read image data\n",
    "    images = np.frombuffer(f.read(), dtype=np.uint8)\n",
    "    images = images.reshape(n_images, n_rows, n_cols)\n",
    "\n",
    "    plt.imshow(images[0], cmap=\"gray\")\n",
    "    plt.show()\n",
    "\n",
    "print(f\"Number of images {n_images}\")\n",
    "print(f\"Image size: {n_rows}x{n_cols}\")"
   ]
  },
  {
   "cell_type": "code",
   "execution_count": 22,
   "id": "da09d387-5fe4-4342-b7f5-262f0d075a75",
   "metadata": {},
   "outputs": [
    {
     "name": "stdout",
     "output_type": "stream",
     "text": [
      "[  0   0   0   0   0   0   0   0   0   0   0   0   3  18  18  18 126 136\n",
      " 175  26 166 255 247 127   0   0   0   0]\n"
     ]
    }
   ],
   "source": [
    "print(images[0][5]) # Nasıl bir şey diye görmek istedim."
   ]
  },
  {
   "cell_type": "code",
   "execution_count": 23,
   "id": "71c77c9d-57b7-4e46-9d00-02ac8c36bfe5",
   "metadata": {},
   "outputs": [
    {
     "name": "stdout",
     "output_type": "stream",
     "text": [
      "Number of labels: 60000\n",
      "Magic number: 2049\n",
      "Labels are: [5 0 4 ... 5 6 8]\n",
      "First label is: 5\n"
     ]
    }
   ],
   "source": [
    "with open(\"/Users/eminustun/Documents/Codes/Micrograd/MNIST_ORG/train-labels.idx1-ubyte\", \"rb\") as l:\n",
    "    magic_label = int.from_bytes(l.read(4), byteorder='big')\n",
    "    number_of_items = int.from_bytes(l.read(4), byteorder='big')\n",
    "    labels = np.frombuffer(l.read(), dtype=np.uint8)\n",
    "\n",
    "print(f\"Number of labels: {number_of_items}\")\n",
    "print(f\"Magic number: {magic_label}\")\n",
    "print(f\"Labels are: {labels}\")\n",
    "print(f\"First label is: {labels[0]}\")"
   ]
  },
  {
   "cell_type": "code",
   "execution_count": 24,
   "id": "74bfe257-587d-4f76-8328-f4aadf6957db",
   "metadata": {},
   "outputs": [
    {
     "name": "stdout",
     "output_type": "stream",
     "text": [
      "First Shapes: Images shape: (60000, 28, 28)\n",
      "First Shapes: Labels shape: (60000,)\n",
      "Last Shapes: Images shape: torch.Size([60000, 1, 28, 28])\n",
      "Last Shapes: Labels shape: torch.Size([60000])\n"
     ]
    }
   ],
   "source": [
    "print(f\"First Shapes: Images shape: {images.shape}\")\n",
    "print(f\"First Shapes: Labels shape: {labels.shape}\") # İkisinin de shape'i farklı olunca error veriyor.\n",
    "'''\n",
    "Images shape: (60000, 28, 28)\n",
    "Labels shape: (60000,)\n",
    "'''\n",
    "images = torch.tensor(images, dtype=torch.float32).reshape(-1, 1, 28, 28)\n",
    "# Örnek boyut dönüşümü:\n",
    "# Başlangıç: (60000, 28, 28)\n",
    "# Reshape sonrası: (60000, 1, 28, 28)\n",
    "#   - 60000: görüntü sayısı\n",
    "#   - 1: kanal sayısı (gri tonlama)\n",
    "#   - 28, 28: görüntü boyutları\n",
    "labels = torch.tensor(labels, dtype=torch.long)\n",
    "\n",
    "print(f\"Last Shapes: Images shape: {images.shape}\")\n",
    "print(f\"Last Shapes: Labels shape: {labels.shape}\") \n",
    "\n",
    "train_dataset = TensorDataset(images, labels)"
   ]
  },
  {
   "cell_type": "code",
   "execution_count": 25,
   "id": "bfeaefef-d4df-418f-8943-e316efaa67b1",
   "metadata": {},
   "outputs": [],
   "source": [
    "train_loader = DataLoader(train_dataset, batch_size=16, shuffle=True)"
   ]
  },
  {
   "cell_type": "markdown",
   "id": "2ff38021-6238-44a3-9f2d-f3a5f89c1539",
   "metadata": {
    "jp-MarkdownHeadingCollapsed": true
   },
   "source": [
    "## Test Data"
   ]
  },
  {
   "cell_type": "code",
   "execution_count": 26,
   "id": "07c5df88-78aa-47b1-9850-b24baf415d12",
   "metadata": {},
   "outputs": [
    {
     "data": {
      "image/png": "[encoded data removed]",
      "text/plain": [
       "<Figure size 640x480 with 1 Axes>"
      ]
     },
     "metadata": {},
     "output_type": "display_data"
    },
    {
     "name": "stdout",
     "output_type": "stream",
     "text": [
      "Number test of images 10000\n",
      "Test image size: 28x28\n"
     ]
    }
   ],
   "source": [
    "with open(\"/Users/eminustun/Documents/Codes/Micrograd/MNIST_ORG/t10k-images.idx3-ubyte\", \"rb\") as testD:\n",
    "    # Read magic number and metadata\n",
    "    test_data_magic = int.from_bytes(testD.read(4), 'big') # First 4 bytes are magic number ( A magic number in identifies file format)\n",
    "    test_n_images = int.from_bytes(testD.read(4), 'big') # Number of images\n",
    "    test_n_rows = int.from_bytes(testD.read(4), 'big') # number of rows\n",
    "    test_n_cols = int.from_bytes(testD.read(4), 'big') # number of columns\n",
    "\n",
    "    # Read image data\n",
    "    test_images = np.frombuffer(testD.read(), dtype=np.uint8)\n",
    "    test_images = test_images.reshape(test_n_images, test_n_rows, test_n_cols)\n",
    "\n",
    "    plt.imshow(test_images[0], cmap=\"gray\")\n",
    "    plt.show()\n",
    "\n",
    "print(f\"Number test of images {test_n_images}\")\n",
    "print(f\"Test image size: {test_n_rows}x{test_n_cols}\")"
   ]
  },
  {
   "cell_type": "code",
   "execution_count": 27,
   "id": "31eeadfd-70ba-4fb4-86ee-2f540bf66952",
   "metadata": {},
   "outputs": [
    {
     "name": "stdout",
     "output_type": "stream",
     "text": [
      "[  0   0   0   0   0   0  84 185 159 151  60  36   0   0   0   0   0   0\n",
      "   0   0   0   0   0   0   0   0   0   0]\n"
     ]
    }
   ],
   "source": [
    "print(test_images[0][7]) # Nasıl bir şey diye görmek istedim."
   ]
  },
  {
   "cell_type": "code",
   "execution_count": 28,
   "id": "9fedccbf-9956-451c-bced-72ef5e8c4dd3",
   "metadata": {},
   "outputs": [
    {
     "name": "stdout",
     "output_type": "stream",
     "text": [
      "Number of labels: 10000\n",
      "Magic number: 2049\n",
      "Labels are: [7 2 1 ... 4 5 6]\n",
      "First label is: 7\n"
     ]
    }
   ],
   "source": [
    "with open(\"/Users/eminustun/Documents/Codes/Micrograd/MNIST_ORG/t10k-labels.idx1-ubyte\", \"rb\") as testL:\n",
    "    test_magic_label = int.from_bytes(testL.read(4), byteorder='big')\n",
    "    test_number_of_items = int.from_bytes(testL.read(4), byteorder='big')\n",
    "    test_labels = np.frombuffer(testL.read(), dtype=np.uint8)\n",
    "\n",
    "print(f\"Number of labels: {test_number_of_items}\")\n",
    "print(f\"Magic number: {test_magic_label}\")\n",
    "print(f\"Labels are: {test_labels}\")\n",
    "print(f\"First label is: {test_labels[0]}\")"
   ]
  },
  {
   "cell_type": "code",
   "execution_count": 29,
   "id": "a5b05a98-4931-475f-b3bb-ff36700dda52",
   "metadata": {},
   "outputs": [
    {
     "name": "stdout",
     "output_type": "stream",
     "text": [
      "First Shapes: Images shape: (10000, 28, 28)\n",
      "First Shapes: Labels shape: (10000,)\n",
      "Last Shapes: Images shape: torch.Size([10000, 1, 28, 28])\n",
      "Last Shapes: Labels shape: torch.Size([10000])\n"
     ]
    }
   ],
   "source": [
    "print(f\"First Shapes: Images shape: {test_images.shape}\")\n",
    "print(f\"First Shapes: Labels shape: {test_labels.shape}\") # İkisinin de shape'i farklı olunca error veriyor.\n",
    "'''\n",
    "Images shape: (60000, 28, 28)\n",
    "Labels shape: (60000,)\n",
    "'''\n",
    "test_images = torch.tensor(test_images, dtype=torch.float32).reshape(-1, 1, 28, 28)\n",
    "test_labels = torch.tensor(test_labels, dtype=torch.long)\n",
    "\n",
    "print(f\"Last Shapes: Images shape: {test_images.shape}\")\n",
    "print(f\"Last Shapes: Labels shape: {test_labels.shape}\") \n",
    "\n",
    "test_dataset = TensorDataset(test_images, test_labels)"
   ]
  },
  {
   "cell_type": "code",
   "execution_count": 52,
   "id": "9134a9ee-77da-427e-9a85-174b981494a4",
   "metadata": {},
   "outputs": [],
   "source": [
    "test_loader = DataLoader(test_dataset, batch_size=16, shuffle=True)"
   ]
  },
  {
   "cell_type": "markdown",
   "id": "b68f6bb5-1ae7-4105-a873-11004a52c35e",
   "metadata": {
    "jp-MarkdownHeadingCollapsed": true
   },
   "source": [
    "## Model"
   ]
  },
  {
   "cell_type": "code",
   "execution_count": 45,
   "id": "cc2ad3a5-260d-4e19-bdf8-84cdbeef249f",
   "metadata": {},
   "outputs": [],
   "source": [
    "class MNISTNeuralNet(nn.Module):\n",
    "    def __init__(self):\n",
    "        super(MNISTNeuralNet, self).__init__()\n",
    "        self.conv1 = nn.Conv2d(1, 6, 5)\n",
    "        self.conv2 = nn.Conv2d(6, 16, 5)\n",
    "        # 16 channels * 4 * 4 = 256\n",
    "        self.fc1 = nn.Linear(16 * 4 * 4, 256)  # Düzeltilmiş boyut\n",
    "        self.fc2 = nn.Linear(256, 84)\n",
    "        self.fc3 = nn.Linear(84, 10)\n",
    "\n",
    "    def forward(self, input):\n",
    "        c1 = F.relu(self.conv1(input))\n",
    "        s2 = F.max_pool2d(c1, (2,2))\n",
    "        c3 = F.relu(self.conv2(s2))\n",
    "        s4 = F.max_pool2d(c3, 2)\n",
    "        s4 = torch.flatten(s4, 1)  # flatten all dimensions except batch\n",
    "        f5 = F.relu(self.fc1(s4))\n",
    "        f6 = F.relu(self.fc2(f5))\n",
    "        output = self.fc3(f6)\n",
    "        return output"
   ]
  },
  {
   "cell_type": "code",
   "execution_count": 46,
   "id": "8d0b421f-e8ce-4c6c-9d2b-4b378810cb5a",
   "metadata": {},
   "outputs": [
    {
     "name": "stdout",
     "output_type": "stream",
     "text": [
      "MNISTNeuralNet(\n",
      "  (conv1): Conv2d(1, 6, kernel_size=(5, 5), stride=(1, 1))\n",
      "  (conv2): Conv2d(6, 16, kernel_size=(5, 5), stride=(1, 1))\n",
      "  (fc1): Linear(in_features=256, out_features=256, bias=True)\n",
      "  (fc2): Linear(in_features=256, out_features=84, bias=True)\n",
      "  (fc3): Linear(in_features=84, out_features=10, bias=True)\n",
      ")\n"
     ]
    }
   ],
   "source": [
    "model = MNISTNeuralNet()\n",
    "print(model)"
   ]
  },
  {
   "cell_type": "code",
   "execution_count": 47,
   "id": "7a67d9db-792e-417d-9377-9bb110539a90",
   "metadata": {},
   "outputs": [
    {
     "name": "stdout",
     "output_type": "stream",
     "text": [
      "10\n",
      "torch.Size([6, 1, 5, 5])\n"
     ]
    }
   ],
   "source": [
    "params = list(model.parameters())\n",
    "print(len(params))\n",
    "print(params[0].size()) # conv1's weight"
   ]
  },
  {
   "cell_type": "markdown",
   "id": "42f35c8a-02c5-46e9-83c4-e114c2fb6d37",
   "metadata": {
    "jp-MarkdownHeadingCollapsed": true
   },
   "source": [
    "## Training and testing"
   ]
  },
  {
   "cell_type": "code",
   "execution_count": 48,
   "id": "5c2844f8-2693-4ac4-9eb6-f2e170da5cec",
   "metadata": {},
   "outputs": [],
   "source": [
    "def train_loop(dataloader, model,batch_size, loss_fn, optimizer):\n",
    "    size = len(train_loader)\n",
    "    model.train()\n",
    "\n",
    "    for batch, (X, y) in enumerate(train_loader):\n",
    "        pred = model(X)\n",
    "        loss = loss_fn(pred, y)\n",
    "\n",
    "        loss.backward()\n",
    "        optimizer.step()\n",
    "\n",
    "        optimizer.zero_grad()\n",
    "\n",
    "        if batch % 100 == 0:\n",
    "            loss, current = loss.item(), batch * batch_size + len(X)\n",
    "            print(f\"loss: {loss:>7f} [{current :>5d} | {size :>5d}]\")\n"
   ]
  },
  {
   "cell_type": "code",
   "execution_count": 56,
   "id": "4f4e2dc6-4064-47bd-95d5-0fb9c5aa3f10",
   "metadata": {},
   "outputs": [],
   "source": [
    "def test_loop(dataloader, model, loss_fn):\n",
    "    model.eval()\n",
    "    size = len(dataloader.dataset)\n",
    "    num_batches = len(dataloader)\n",
    "    test_loss, correct = 0, 0\n",
    "\n",
    "    with torch.no_grad():\n",
    "        for X, y in dataloader:\n",
    "            pred = model(X)\n",
    "            test_loss += loss_fn(pred, y).item()\n",
    "            correct += (pred.argmax(1) == y).type(torch.float).sum().item()\n",
    "\n",
    "    test_loss /= num_batches\n",
    "    correct /= size\n",
    "    print(f\"Test Error: \\n Accuracy: {(100*correct):>0.1f}%, avg loss: {test_loss:>8f} \\n\")"
   ]
  },
  {
   "cell_type": "code",
   "execution_count": 57,
   "id": "f3bb5f32-77a2-4e1d-b9af-7eb465a8d946",
   "metadata": {},
   "outputs": [
    {
     "name": "stdout",
     "output_type": "stream",
     "text": [
      "Epochs 1\n",
      "--------------------\n",
      "loss: 0.019363 [   16 |  3750]\n",
      "loss: 0.000410 [ 1616 |  3750]\n",
      "loss: 0.000132 [ 3216 |  3750]\n",
      "loss: 0.006616 [ 4816 |  3750]\n",
      "loss: 0.001672 [ 6416 |  3750]\n",
      "loss: 0.000109 [ 8016 |  3750]\n",
      "loss: 0.000740 [ 9616 |  3750]\n",
      "loss: 0.000609 [11216 |  3750]\n",
      "loss: 0.000068 [12816 |  3750]\n",
      "loss: 0.022536 [14416 |  3750]\n",
      "loss: 0.002136 [16016 |  3750]\n",
      "loss: 0.000013 [17616 |  3750]\n",
      "loss: 0.002258 [19216 |  3750]\n",
      "loss: 0.000597 [20816 |  3750]\n",
      "loss: 0.002695 [22416 |  3750]\n",
      "loss: 0.000529 [24016 |  3750]\n",
      "loss: 0.008389 [25616 |  3750]\n",
      "loss: 0.019450 [27216 |  3750]\n",
      "loss: 0.000795 [28816 |  3750]\n",
      "loss: 0.000569 [30416 |  3750]\n",
      "loss: 0.005611 [32016 |  3750]\n",
      "loss: 0.000746 [33616 |  3750]\n",
      "loss: 0.000522 [35216 |  3750]\n",
      "loss: 0.028733 [36816 |  3750]\n",
      "loss: 0.000048 [38416 |  3750]\n",
      "loss: 0.125090 [40016 |  3750]\n",
      "loss: 0.001397 [41616 |  3750]\n",
      "loss: 0.103635 [43216 |  3750]\n",
      "loss: 0.000985 [44816 |  3750]\n",
      "loss: 0.026442 [46416 |  3750]\n",
      "loss: 0.000083 [48016 |  3750]\n",
      "loss: 0.001507 [49616 |  3750]\n",
      "loss: 0.000102 [51216 |  3750]\n",
      "loss: 0.001997 [52816 |  3750]\n",
      "loss: 0.002464 [54416 |  3750]\n",
      "loss: 0.005953 [56016 |  3750]\n",
      "loss: 0.001021 [57616 |  3750]\n",
      "loss: 0.000026 [59216 |  3750]\n",
      "Test Error: \n",
      " Accuracy: 98.8%, avg loss: 0.039935 \n",
      "\n",
      "Epochs 2\n",
      "--------------------\n",
      "loss: 0.000040 [   16 |  3750]\n",
      "loss: 0.002577 [ 1616 |  3750]\n",
      "loss: 0.000277 [ 3216 |  3750]\n",
      "loss: 0.006071 [ 4816 |  3750]\n",
      "loss: 0.001484 [ 6416 |  3750]\n",
      "loss: 0.023497 [ 8016 |  3750]\n",
      "loss: 0.000043 [ 9616 |  3750]\n",
      "loss: 0.007687 [11216 |  3750]\n",
      "loss: 0.018806 [12816 |  3750]\n",
      "loss: 0.001452 [14416 |  3750]\n",
      "loss: 0.002041 [16016 |  3750]\n",
      "loss: 0.028728 [17616 |  3750]\n",
      "loss: 0.000819 [19216 |  3750]\n",
      "loss: 0.002400 [20816 |  3750]\n",
      "loss: 0.002967 [22416 |  3750]\n",
      "loss: 0.006562 [24016 |  3750]\n",
      "loss: 0.000164 [25616 |  3750]\n",
      "loss: 0.000505 [27216 |  3750]\n",
      "loss: 0.001105 [28816 |  3750]\n",
      "loss: 0.000814 [30416 |  3750]\n",
      "loss: 0.001110 [32016 |  3750]\n",
      "loss: 0.000535 [33616 |  3750]\n",
      "loss: 0.001538 [35216 |  3750]\n",
      "loss: 0.010927 [36816 |  3750]\n",
      "loss: 0.001081 [38416 |  3750]\n",
      "loss: 0.027483 [40016 |  3750]\n",
      "loss: 0.000241 [41616 |  3750]\n",
      "loss: 0.000023 [43216 |  3750]\n",
      "loss: 0.001631 [44816 |  3750]\n",
      "loss: 0.000044 [46416 |  3750]\n",
      "loss: 0.026164 [48016 |  3750]\n",
      "loss: 0.000579 [49616 |  3750]\n",
      "loss: 0.000235 [51216 |  3750]\n",
      "loss: 0.018132 [52816 |  3750]\n",
      "loss: 0.000296 [54416 |  3750]\n",
      "loss: 0.000179 [56016 |  3750]\n",
      "loss: 0.001399 [57616 |  3750]\n",
      "loss: 0.015866 [59216 |  3750]\n",
      "Test Error: \n",
      " Accuracy: 98.7%, avg loss: 0.047299 \n",
      "\n",
      "Epochs 3\n",
      "--------------------\n",
      "loss: 0.002806 [   16 |  3750]\n",
      "loss: 0.014494 [ 1616 |  3750]\n",
      "loss: 0.011118 [ 3216 |  3750]\n",
      "loss: 0.022904 [ 4816 |  3750]\n",
      "loss: 0.000224 [ 6416 |  3750]\n",
      "loss: 0.006834 [ 8016 |  3750]\n",
      "loss: 0.023552 [ 9616 |  3750]\n",
      "loss: 0.007323 [11216 |  3750]\n",
      "loss: 0.035377 [12816 |  3750]\n",
      "loss: 0.000722 [14416 |  3750]\n",
      "loss: 0.003499 [16016 |  3750]\n",
      "loss: 0.000649 [17616 |  3750]\n",
      "loss: 0.000057 [19216 |  3750]\n",
      "loss: 0.000181 [20816 |  3750]\n",
      "loss: 0.046961 [22416 |  3750]\n",
      "loss: 0.000146 [24016 |  3750]\n",
      "loss: 0.010492 [25616 |  3750]\n",
      "loss: 0.000176 [27216 |  3750]\n",
      "loss: 0.000024 [28816 |  3750]\n",
      "loss: 0.000051 [30416 |  3750]\n",
      "loss: 0.003605 [32016 |  3750]\n",
      "loss: 0.019872 [33616 |  3750]\n",
      "loss: 0.015924 [35216 |  3750]\n",
      "loss: 0.000203 [36816 |  3750]\n",
      "loss: 0.008844 [38416 |  3750]\n",
      "loss: 0.007796 [40016 |  3750]\n",
      "loss: 0.000877 [41616 |  3750]\n",
      "loss: 0.000538 [43216 |  3750]\n",
      "loss: 0.000035 [44816 |  3750]\n",
      "loss: 0.009032 [46416 |  3750]\n",
      "loss: 0.000070 [48016 |  3750]\n",
      "loss: 0.126235 [49616 |  3750]\n",
      "loss: 0.031981 [51216 |  3750]\n",
      "loss: 0.000180 [52816 |  3750]\n",
      "loss: 0.000195 [54416 |  3750]\n",
      "loss: 0.001144 [56016 |  3750]\n",
      "loss: 0.000517 [57616 |  3750]\n",
      "loss: 0.165953 [59216 |  3750]\n",
      "Test Error: \n",
      " Accuracy: 98.6%, avg loss: 0.044467 \n",
      "\n",
      "Epochs 4\n",
      "--------------------\n",
      "loss: 0.000014 [   16 |  3750]\n",
      "loss: 0.000109 [ 1616 |  3750]\n",
      "loss: 0.006658 [ 3216 |  3750]\n",
      "loss: 0.000007 [ 4816 |  3750]\n",
      "loss: 0.058274 [ 6416 |  3750]\n",
      "loss: 0.005598 [ 8016 |  3750]\n",
      "loss: 0.007892 [ 9616 |  3750]\n",
      "loss: 0.000652 [11216 |  3750]\n",
      "loss: 0.009371 [12816 |  3750]\n",
      "loss: 0.000432 [14416 |  3750]\n",
      "loss: 0.000259 [16016 |  3750]\n",
      "loss: 0.000246 [17616 |  3750]\n",
      "loss: 0.023792 [19216 |  3750]\n",
      "loss: 0.026806 [20816 |  3750]\n",
      "loss: 0.000899 [22416 |  3750]\n",
      "loss: 0.005130 [24016 |  3750]\n",
      "loss: 0.001726 [25616 |  3750]\n",
      "loss: 0.000198 [27216 |  3750]\n",
      "loss: 0.125774 [28816 |  3750]\n",
      "loss: 0.028096 [30416 |  3750]\n",
      "loss: 0.002402 [32016 |  3750]\n",
      "loss: 0.003372 [33616 |  3750]\n",
      "loss: 0.002898 [35216 |  3750]\n",
      "loss: 0.000334 [36816 |  3750]\n",
      "loss: 0.002406 [38416 |  3750]\n",
      "loss: 0.000008 [40016 |  3750]\n",
      "loss: 0.001104 [41616 |  3750]\n",
      "loss: 0.000004 [43216 |  3750]\n",
      "loss: 0.000677 [44816 |  3750]\n",
      "loss: 0.017736 [46416 |  3750]\n",
      "loss: 0.000637 [48016 |  3750]\n",
      "loss: 0.000046 [49616 |  3750]\n",
      "loss: 0.003279 [51216 |  3750]\n",
      "loss: 0.001332 [52816 |  3750]\n",
      "loss: 0.012237 [54416 |  3750]\n",
      "loss: 0.000059 [56016 |  3750]\n",
      "loss: 0.070042 [57616 |  3750]\n",
      "loss: 0.005140 [59216 |  3750]\n",
      "Test Error: \n",
      " Accuracy: 98.7%, avg loss: 0.043448 \n",
      "\n",
      "Epochs 5\n",
      "--------------------\n",
      "loss: 0.000685 [   16 |  3750]\n",
      "loss: 0.069236 [ 1616 |  3750]\n",
      "loss: 0.003856 [ 3216 |  3750]\n",
      "loss: 0.001420 [ 4816 |  3750]\n",
      "loss: 0.000515 [ 6416 |  3750]\n",
      "loss: 0.016158 [ 8016 |  3750]\n",
      "loss: 0.000251 [ 9616 |  3750]\n",
      "loss: 0.001611 [11216 |  3750]\n",
      "loss: 0.000582 [12816 |  3750]\n",
      "loss: 0.018007 [14416 |  3750]\n",
      "loss: 0.001392 [16016 |  3750]\n",
      "loss: 0.002712 [17616 |  3750]\n",
      "loss: 0.051003 [19216 |  3750]\n",
      "loss: 0.000691 [20816 |  3750]\n",
      "loss: 0.004544 [22416 |  3750]\n",
      "loss: 0.004221 [24016 |  3750]\n",
      "loss: 0.000124 [25616 |  3750]\n",
      "loss: 0.002027 [27216 |  3750]\n",
      "loss: 0.001485 [28816 |  3750]\n",
      "loss: 0.000034 [30416 |  3750]\n",
      "loss: 0.000237 [32016 |  3750]\n",
      "loss: 0.008651 [33616 |  3750]\n",
      "loss: 0.000053 [35216 |  3750]\n",
      "loss: 0.000309 [36816 |  3750]\n",
      "loss: 0.000005 [38416 |  3750]\n",
      "loss: 0.006365 [40016 |  3750]\n",
      "loss: 0.000059 [41616 |  3750]\n",
      "loss: 0.002675 [43216 |  3750]\n",
      "loss: 0.001341 [44816 |  3750]\n",
      "loss: 0.002821 [46416 |  3750]\n",
      "loss: 0.097330 [48016 |  3750]\n",
      "loss: 0.000095 [49616 |  3750]\n",
      "loss: 0.000204 [51216 |  3750]\n",
      "loss: 0.000086 [52816 |  3750]\n",
      "loss: 0.000055 [54416 |  3750]\n",
      "loss: 0.109917 [56016 |  3750]\n",
      "loss: 0.000323 [57616 |  3750]\n",
      "loss: 0.003989 [59216 |  3750]\n",
      "Test Error: \n",
      " Accuracy: 98.8%, avg loss: 0.044028 \n",
      "\n",
      "Epochs 6\n",
      "--------------------\n",
      "loss: 0.000017 [   16 |  3750]\n",
      "loss: 0.004989 [ 1616 |  3750]\n",
      "loss: 0.002492 [ 3216 |  3750]\n",
      "loss: 0.000156 [ 4816 |  3750]\n",
      "loss: 0.000067 [ 6416 |  3750]\n",
      "loss: 0.000755 [ 8016 |  3750]\n",
      "loss: 0.007204 [ 9616 |  3750]\n",
      "loss: 0.000592 [11216 |  3750]\n",
      "loss: 0.000013 [12816 |  3750]\n",
      "loss: 0.000074 [14416 |  3750]\n",
      "loss: 0.000077 [16016 |  3750]\n",
      "loss: 0.000008 [17616 |  3750]\n",
      "loss: 0.001590 [19216 |  3750]\n",
      "loss: 0.000085 [20816 |  3750]\n",
      "loss: 0.000290 [22416 |  3750]\n",
      "loss: 0.000152 [24016 |  3750]\n",
      "loss: 0.000111 [25616 |  3750]\n",
      "loss: 0.002299 [27216 |  3750]\n",
      "loss: 0.000995 [28816 |  3750]\n",
      "loss: 0.171268 [30416 |  3750]\n",
      "loss: 0.002207 [32016 |  3750]\n",
      "loss: 0.000112 [33616 |  3750]\n",
      "loss: 0.000187 [35216 |  3750]\n",
      "loss: 0.000019 [36816 |  3750]\n",
      "loss: 0.000008 [38416 |  3750]\n",
      "loss: 0.000889 [40016 |  3750]\n",
      "loss: 0.000148 [41616 |  3750]\n",
      "loss: 0.000032 [43216 |  3750]\n",
      "loss: 0.001384 [44816 |  3750]\n",
      "loss: 0.000180 [46416 |  3750]\n",
      "loss: 0.000064 [48016 |  3750]\n",
      "loss: 0.000003 [49616 |  3750]\n",
      "loss: 0.000326 [51216 |  3750]\n",
      "loss: 0.047587 [52816 |  3750]\n",
      "loss: 0.003997 [54416 |  3750]\n",
      "loss: 0.000331 [56016 |  3750]\n",
      "loss: 0.007391 [57616 |  3750]\n",
      "loss: 0.002665 [59216 |  3750]\n",
      "Test Error: \n",
      " Accuracy: 98.8%, avg loss: 0.044268 \n",
      "\n",
      "Epochs 7\n",
      "--------------------\n",
      "loss: 0.000181 [   16 |  3750]\n",
      "loss: 0.000777 [ 1616 |  3750]\n",
      "loss: 0.000357 [ 3216 |  3750]\n",
      "loss: 0.070311 [ 4816 |  3750]\n",
      "loss: 0.000012 [ 6416 |  3750]\n",
      "loss: 0.000377 [ 8016 |  3750]\n",
      "loss: 0.000153 [ 9616 |  3750]\n",
      "loss: 0.000044 [11216 |  3750]\n",
      "loss: 0.000808 [12816 |  3750]\n",
      "loss: 0.000664 [14416 |  3750]\n",
      "loss: 0.000142 [16016 |  3750]\n",
      "loss: 0.021135 [17616 |  3750]\n",
      "loss: 0.000764 [19216 |  3750]\n",
      "loss: 0.005170 [20816 |  3750]\n",
      "loss: 0.002977 [22416 |  3750]\n",
      "loss: 0.001623 [24016 |  3750]\n",
      "loss: 0.000684 [25616 |  3750]\n",
      "loss: 0.019712 [27216 |  3750]\n",
      "loss: 0.000047 [28816 |  3750]\n",
      "loss: 0.000177 [30416 |  3750]\n",
      "loss: 0.000003 [32016 |  3750]\n",
      "loss: 0.000071 [33616 |  3750]\n",
      "loss: 0.000148 [35216 |  3750]\n",
      "loss: 0.005961 [36816 |  3750]\n",
      "loss: 0.019942 [38416 |  3750]\n",
      "loss: 0.000980 [40016 |  3750]\n",
      "loss: 0.011412 [41616 |  3750]\n",
      "loss: 0.000007 [43216 |  3750]\n",
      "loss: 0.000173 [44816 |  3750]\n",
      "loss: 0.099669 [46416 |  3750]\n",
      "loss: 0.002223 [48016 |  3750]\n",
      "loss: 0.000451 [49616 |  3750]\n",
      "loss: 0.007038 [51216 |  3750]\n",
      "loss: 0.000045 [52816 |  3750]\n",
      "loss: 0.000094 [54416 |  3750]\n",
      "loss: 0.000079 [56016 |  3750]\n",
      "loss: 0.000263 [57616 |  3750]\n",
      "loss: 0.000255 [59216 |  3750]\n",
      "Test Error: \n",
      " Accuracy: 98.8%, avg loss: 0.045451 \n",
      "\n",
      "Epochs 8\n",
      "--------------------\n",
      "loss: 0.021645 [   16 |  3750]\n",
      "loss: 0.000001 [ 1616 |  3750]\n",
      "loss: 0.000437 [ 3216 |  3750]\n",
      "loss: 0.000581 [ 4816 |  3750]\n",
      "loss: 0.000011 [ 6416 |  3750]\n",
      "loss: 0.010716 [ 8016 |  3750]\n",
      "loss: 0.000053 [ 9616 |  3750]\n",
      "loss: 0.000010 [11216 |  3750]\n",
      "loss: 0.000132 [12816 |  3750]\n",
      "loss: 0.001364 [14416 |  3750]\n",
      "loss: 0.000035 [16016 |  3750]\n",
      "loss: 0.000002 [17616 |  3750]\n",
      "loss: 0.000905 [19216 |  3750]\n",
      "loss: 0.000665 [20816 |  3750]\n",
      "loss: 0.000020 [22416 |  3750]\n",
      "loss: 0.000760 [24016 |  3750]\n",
      "loss: 0.000007 [25616 |  3750]\n",
      "loss: 0.002841 [27216 |  3750]\n",
      "loss: 0.000630 [28816 |  3750]\n",
      "loss: 0.109336 [30416 |  3750]\n",
      "loss: 0.001211 [32016 |  3750]\n",
      "loss: 0.000996 [33616 |  3750]\n",
      "loss: 0.002674 [35216 |  3750]\n",
      "loss: 0.000074 [36816 |  3750]\n",
      "loss: 0.000144 [38416 |  3750]\n",
      "loss: 0.001777 [40016 |  3750]\n",
      "loss: 0.000127 [41616 |  3750]\n",
      "loss: 0.000050 [43216 |  3750]\n",
      "loss: 0.000139 [44816 |  3750]\n",
      "loss: 0.000014 [46416 |  3750]\n",
      "loss: 0.000250 [48016 |  3750]\n",
      "loss: 0.000277 [49616 |  3750]\n",
      "loss: 0.018796 [51216 |  3750]\n",
      "loss: 0.364506 [52816 |  3750]\n",
      "loss: 0.001320 [54416 |  3750]\n",
      "loss: 0.001423 [56016 |  3750]\n",
      "loss: 0.000296 [57616 |  3750]\n",
      "loss: 0.000061 [59216 |  3750]\n",
      "Test Error: \n",
      " Accuracy: 98.7%, avg loss: 0.049271 \n",
      "\n",
      "Epochs 9\n",
      "--------------------\n",
      "loss: 0.000008 [   16 |  3750]\n",
      "loss: 0.000649 [ 1616 |  3750]\n",
      "loss: 0.000009 [ 3216 |  3750]\n",
      "loss: 0.003604 [ 4816 |  3750]\n",
      "loss: 0.000687 [ 6416 |  3750]\n",
      "loss: 0.002448 [ 8016 |  3750]\n",
      "loss: 0.000132 [ 9616 |  3750]\n",
      "loss: 0.002372 [11216 |  3750]\n",
      "loss: 0.000003 [12816 |  3750]\n",
      "loss: 0.000153 [14416 |  3750]\n",
      "loss: 0.000106 [16016 |  3750]\n",
      "loss: 0.000050 [17616 |  3750]\n",
      "loss: 0.001976 [19216 |  3750]\n",
      "loss: 0.000028 [20816 |  3750]\n",
      "loss: 0.000042 [22416 |  3750]\n",
      "loss: 0.001095 [24016 |  3750]\n",
      "loss: 0.000602 [25616 |  3750]\n",
      "loss: 0.000040 [27216 |  3750]\n",
      "loss: 0.005766 [28816 |  3750]\n",
      "loss: 0.024461 [30416 |  3750]\n",
      "loss: 0.011407 [32016 |  3750]\n",
      "loss: 0.000013 [33616 |  3750]\n",
      "loss: 0.003258 [35216 |  3750]\n",
      "loss: 0.000405 [36816 |  3750]\n",
      "loss: 0.000944 [38416 |  3750]\n",
      "loss: 0.007924 [40016 |  3750]\n",
      "loss: 0.003980 [41616 |  3750]\n",
      "loss: 0.000774 [43216 |  3750]\n",
      "loss: 0.000479 [44816 |  3750]\n",
      "loss: 0.000006 [46416 |  3750]\n",
      "loss: 0.000610 [48016 |  3750]\n",
      "loss: 0.000523 [49616 |  3750]\n",
      "loss: 0.000175 [51216 |  3750]\n",
      "loss: 0.000350 [52816 |  3750]\n",
      "loss: 0.011419 [54416 |  3750]\n",
      "loss: 0.000193 [56016 |  3750]\n",
      "loss: 0.000002 [57616 |  3750]\n",
      "loss: 0.001769 [59216 |  3750]\n",
      "Test Error: \n",
      " Accuracy: 98.9%, avg loss: 0.042322 \n",
      "\n",
      "Epochs 10\n",
      "--------------------\n",
      "loss: 0.000084 [   16 |  3750]\n",
      "loss: 0.000963 [ 1616 |  3750]\n",
      "loss: 0.000041 [ 3216 |  3750]\n",
      "loss: 0.000050 [ 4816 |  3750]\n",
      "loss: 0.000013 [ 6416 |  3750]\n",
      "loss: 0.000242 [ 8016 |  3750]\n",
      "loss: 0.000043 [ 9616 |  3750]\n",
      "loss: 0.000214 [11216 |  3750]\n",
      "loss: 0.024530 [12816 |  3750]\n",
      "loss: 0.000356 [14416 |  3750]\n",
      "loss: 0.000327 [16016 |  3750]\n",
      "loss: 0.000317 [17616 |  3750]\n",
      "loss: 0.000014 [19216 |  3750]\n",
      "loss: 0.000157 [20816 |  3750]\n",
      "loss: 0.000409 [22416 |  3750]\n",
      "loss: 0.000320 [24016 |  3750]\n",
      "loss: 0.004227 [25616 |  3750]\n",
      "loss: 0.000045 [27216 |  3750]\n",
      "loss: 0.003799 [28816 |  3750]\n",
      "loss: 0.000005 [30416 |  3750]\n",
      "loss: 0.016428 [32016 |  3750]\n",
      "loss: 0.000017 [33616 |  3750]\n",
      "loss: 0.000005 [35216 |  3750]\n",
      "loss: 0.000003 [36816 |  3750]\n",
      "loss: 0.011791 [38416 |  3750]\n",
      "loss: 0.001651 [40016 |  3750]\n",
      "loss: 0.000248 [41616 |  3750]\n",
      "loss: 0.000357 [43216 |  3750]\n",
      "loss: 0.004373 [44816 |  3750]\n",
      "loss: 0.003393 [46416 |  3750]\n",
      "loss: 0.000191 [48016 |  3750]\n",
      "loss: 0.000609 [49616 |  3750]\n",
      "loss: 0.000361 [51216 |  3750]\n",
      "loss: 0.000930 [52816 |  3750]\n",
      "loss: 0.034732 [54416 |  3750]\n",
      "loss: 0.002547 [56016 |  3750]\n",
      "loss: 0.000050 [57616 |  3750]\n",
      "loss: 0.007859 [59216 |  3750]\n",
      "Test Error: \n",
      " Accuracy: 98.8%, avg loss: 0.044067 \n",
      "\n",
      "Done!\n"
     ]
    }
   ],
   "source": [
    "epochs = 10\n",
    "for t in range(epochs):\n",
    "  print(f\"Epochs {t + 1}\\n--------------------\")\n",
    "  train_loop(train_loader, model, 16, loss_fn, optimizer)\n",
    "  test_loop(test_loader, model, loss_fn)\n",
    "print(\"Done!\")"
   ]
  },
  {
   "cell_type": "code",
   "execution_count": 199,
   "id": "006126c4-4cf1-454b-aaf8-654ec7e77bb8",
   "metadata": {},
   "outputs": [
    {
     "data": {
      "image/png": "[encoded data removed]",
      "text/plain": [
       "<Figure size 640x480 with 1 Axes>"
      ]
     },
     "metadata": {},
     "output_type": "display_data"
    }
   ],
   "source": [
    "import matplotlib.pyplot as plt\n",
    "\n",
    "dataiter = iter(test_loader)\n",
    "images, labels = next(dataiter)\n",
    "\n",
    "img = images[1]\n",
    "label = labels[1]\n",
    "\n",
    "model.eval()\n",
    "\n",
    "with torch.no_grad():\n",
    "    pred = model(img.unsqueeze(0))  # Batch boyutu eklemek için unsqueeze\n",
    "    predicted = pred.argmax(1)\n",
    "\n",
    "plt.imshow(img.squeeze(), cmap='gray')\n",
    "plt.title(f'Gerçek: {label.item()}, Tahmin: {predicted.item()}')\n",
    "plt.axis('off')\n",
    "plt.show()"
   ]
  }
 ],
 "metadata": {
  "kernelspec": {
   "display_name": "Python 3 (ipykernel)",
   "language": "python",
   "name": "python3"
  },
  "language_info": {
   "codemirror_mode": {
    "name": "ipython",
    "version": 3
   },
   "file_extension": ".py",
   "mimetype": "text/x-python",
   "name": "python",
   "nbconvert_exporter": "python",
   "pygments_lexer": "ipython3",
   "version": "3.12.3"
  }
 },
 "nbformat": 4,
 "nbformat_minor": 5
}
